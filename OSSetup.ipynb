{
 "cells": [
  {
   "cell_type": "markdown",
   "metadata": {},
   "source": [
    "## Install dual OS\n",
    "Windows and Linux could be a good choice, here we install the ubuntu with win10:\n",
    "\n",
    "* install the windows first, and format the disk to free some space for the linux OS. In the rest file system, you can adapt the `exFAT` (this format supported by Linux, Windows and MacOS and allow to store larger than 4 GB which is limitation on `FAT32` system) format would allow the windows accesses to the linux file system locally.\n",
    "* Make a usb booster based on this [tutorial](https://tutorials.ubuntu.com/tutorial/tutorial-create-a-usb-stick-on-windows?_ga=2.241485126.534793801.1544247483-1694404607.1525471784#0)\n"
   ]
  },
  {
   "cell_type": "code",
   "execution_count": null,
   "metadata": {},
   "outputs": [],
   "source": []
  }
 ],
 "metadata": {
  "kernelspec": {
   "display_name": "Python 3",
   "language": "python",
   "name": "python3"
  },
  "language_info": {
   "codemirror_mode": {
    "name": "ipython",
    "version": 3
   },
   "file_extension": ".py",
   "mimetype": "text/x-python",
   "name": "python",
   "nbconvert_exporter": "python",
   "pygments_lexer": "ipython3",
   "version": "3.5.0"
  }
 },
 "nbformat": 4,
 "nbformat_minor": 2
}
