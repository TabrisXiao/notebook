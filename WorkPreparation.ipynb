{
 "cells": [
  {
   "cell_type": "markdown",
   "metadata": {},
   "source": [
    "# Setup working envriment\n",
    "\n",
    "## MacOS\n",
    "\n",
    "Install the xcode command line tool: `xcode-select --install`\n",
    "\n",
    "## Ubuntu\n",
    "All the initialzation can be found in the files `initUbuntu.sh`.\n",
    "\n",
    "* [Instrall the driver for Nvidia graphic card](https://linuxconfig.org/how-to-install-the-nvidia-drivers-on-ubuntu-18-04-bionic-beaver-linux)\n",
    "\n",
    "\n",
    "### Python related package\n",
    "Install a virtual enviroment could allow configure different python enviroment, like packages, variables etc.\n",
    "```sh\n",
    "pip3 install -U virtualenv #-U means install system wide\n",
    "```\n",
    "and one can create a new virtual enviroment by\n",
    "```sh\n",
    "# create a new virtual enviroment named as \"venv\"\n",
    "virtualenv --system-site-packages -p python3 ./venv/\n",
    "source ./venv/bin/activate #start the venv\n",
    "#show all the package installed in this enviroment; all the system wide package should be avaiable in every virtual enviroment\n",
    "pip list \n",
    "deactivate #termnate the current virtual enviroment\n",
    "```\n",
    "\n",
    "### jupyter notebook\n",
    "\n",
    "\n",
    "install the jupyter notebook by\n",
    "\n",
    "```bash\n",
    "sudo -H pip3 install jupyter\n",
    "```\n",
    "\n",
    "Adding the dark scheme for jupyter notebook by using [jupyterthemes](https://github.com/dunovank/jupyter-themes#jupyterthemes):\n",
    "```bash\n",
    "\n",
    "python3 -m pip install jupyterthemes\n",
    "python3 -m pip install --upgrade jupyterthemes\n",
    "\n",
    "jt -t solarizedd\n",
    "```\n",
    "the [comand line example](https://github.com/dunovank/jupyter-themes#command-line-examples) and [setup the plot style for python](https://github.com/dunovank/jupyter-themes#set-plotting-style-from-within-notebook):\n",
    "```py\n",
    "# import jtplot submodule from jupyterthemes\n",
    "from jupyterthemes import jtplot\n",
    "\n",
    "# currently installed theme will be used to\n",
    "# set plot style if no arguments provided\n",
    "jtplot.style()\n",
    "\n",
    "```\n",
    "\n"
   ]
  },
  {
   "cell_type": "markdown",
   "metadata": {},
   "source": [
    "### Install the Tensorflow\n",
    "\n",
    "Following the [tutorial](https://www.tensorflow.org/install/pip) to install the `python3` based API version."
   ]
  },
  {
   "cell_type": "markdown",
   "metadata": {},
   "source": [
    "## Periodically update and backup\n",
    "\n",
    "The periocdically update and backup can be implemented on ubuntu by using the `crontab` and here are [examples](https://tecadmin.net/crontab-in-linux-with-20-examples-of-cron-schedule/)"
   ]
  },
  {
   "cell_type": "code",
   "execution_count": null,
   "metadata": {},
   "outputs": [],
   "source": []
  }
 ],
 "metadata": {
  "kernelspec": {
   "display_name": "Python 3",
   "language": "python",
   "name": "python3"
  },
  "language_info": {
   "codemirror_mode": {
    "name": "ipython",
    "version": 3
   },
   "file_extension": ".py",
   "mimetype": "text/x-python",
   "name": "python",
   "nbconvert_exporter": "python",
   "pygments_lexer": "ipython3",
   "version": "3.6.7"
  }
 },
 "nbformat": 4,
 "nbformat_minor": 2
}
